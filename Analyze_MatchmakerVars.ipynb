{
 "cells": [
  {
   "cell_type": "code",
   "execution_count": null,
   "metadata": {},
   "outputs": [],
   "source": [
    "from sklearn.decomposition import PCA\n",
    "from sklearn.manifold import TSNE\n",
    "# %matplotlib inline\n",
    "import matplotlib.pyplot as plt\n",
    "from mpl_toolkits.mplot3d import Axes3D\n",
    "import seaborn as sns\n",
    "import time\n",
    "\n",
    "print(\"> all columns (n={}):\\n{}\\n\".format(df.shape[1], df.columns))\n",
    "non_feature_cols = ['code', 'label', 'y']\n",
    "# X = df.drop(non_feature_cols, axis=1).values\n",
    "\n",
    "# determine X\n",
    "####################################\n",
    "if encoding_mode in (1, 'binary', ): \n",
    "    X = df.drop(non_feature_cols, axis=1).values\n",
    "    \n",
    "elif encoding_mode in (2, ): \n",
    "    X_cats = np.stack([df[col].cat.codes.values for col in cat_cols], 1)\n",
    "    # X_conts = np.stack([df[col].values for col in cont_cols], 1)\n",
    "    \n",
    "    nf = X_cats.shape[1] # + X_conts.shape[1]\n",
    "    print(\"> Using n={} features ... #\".format(nf))\n",
    "\n",
    "    # X = np.hstack([X_cats, X_conts])\n",
    "    X = X_cats\n",
    "    \n",
    "    print(\"> X: {}\".format(X[:10, :]))\n",
    "    \n",
    "    # feature scaling\n",
    "    scaler = MinMaxScaler() # MinMaxScaler(), StandardScaler()\n",
    "    X = scaler.fit_transform(X)\n",
    "    \n",
    "    # print(\"> X: {}\".format(X[:10, :]))\n",
    "####################################\n",
    "\n",
    "# determine y\n",
    "y = df['y'].values\n",
    "print(\"> dim(X): {}, dim(y): {}\".format(X.shape, y.shape))\n",
    "\n",
    "# cell output: (X, y)"
   ]
  }
 ],
 "metadata": {
  "kernelspec": {
   "display_name": "Python 3",
   "language": "python",
   "name": "python3"
  },
  "language_info": {
   "codemirror_mode": {
    "name": "ipython",
    "version": 3
   },
   "file_extension": ".py",
   "mimetype": "text/x-python",
   "name": "python",
   "nbconvert_exporter": "python",
   "pygments_lexer": "ipython3",
   "version": "3.6.9"
  }
 },
 "nbformat": 4,
 "nbformat_minor": 4
}
